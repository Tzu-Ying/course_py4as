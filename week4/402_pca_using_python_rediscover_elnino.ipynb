{
 "cells": [
  {
   "cell_type": "markdown",
   "metadata": {
    "slideshow": {
     "slide_type": "slide"
    }
   },
   "source": [
    "# Rediscover El Niño\n",
    "\n",
    "\n",
    "\n",
    "[Course Module: Applied Data Analysis for Atmospheric Sciences Using Python]\n",
    "\n",
    "\n",
    "\n",
    "\n",
    "\n",
    "----------------------------------\n",
    "\n",
    "November 2018\n",
    "Ting-Shuo Yo"
   ]
  },
  {
   "cell_type": "markdown",
   "metadata": {
    "slideshow": {
     "slide_type": "slide"
    }
   },
   "source": [
    "## 聖嬰現象 El Niño\n",
    "\n",
    "[聖嬰現象](https://zh.wikipedia.org/wiki/%E8%81%96%E5%AC%B0%E7%8F%BE%E8%B1%A1)（西班牙語：El Niño），是指東太平洋海水每隔數年就會異常升溫的現象，是聖嬰-南方振盪現象（El Niño-Southern Oscillation，簡稱ENSO）中，東太平洋升溫的階段。\n",
    "\n",
    "<img src='figures/Sstaanim.gif'/>\n",
    "\n",
    "自 [Bjerknes 1961 年的論文](https://journals.ametsoc.org/doi/10.1175/1520-0493%281969%29097%3C0163%3AATFTEP%3E2.3.CO%3B2)發表以來，ENSO 在大氣科學領域已經是一個眾所週知的現象，當年這個現象的發現，使用的是 Empirical orthogonal function (EOF) Analysis 這個分析工具，而 EOF 是 PCA 的一種形式，我們恰好可以利用熱帶太平洋的海溫資料和 PCA，追隨前人的腳步，來重新發現一次聖嬰現象。"
   ]
  },
  {
   "cell_type": "markdown",
   "metadata": {
    "slideshow": {
     "slide_type": "slide"
    }
   },
   "source": [
    "## 赤道太平洋的海溫資料\n",
    "\n",
    "NOAA 的網站提供了豐富的歷史資料，我們從 [COBE SST 資料集](https://www.esrl.noaa.gov/psd/data/gridded/data.cobe.html)當中，切割出 5S~5E / 180E ~ 90W / 1951-Jan ~ 2000-Dec 的月均海表溫度（SST）。\n",
    "\n",
    "<img src='figures/Enso-index-map.png'/>\n",
    "\n",
    "區域的選擇基本上是 ENSO-index 計算的區域 Nino3 和 Nino3.4 的組合。"
   ]
  },
  {
   "cell_type": "markdown",
   "metadata": {
    "slideshow": {
     "slide_type": "slide"
    }
   },
   "source": [
    "## 分析前的準備\n",
    "\n",
    "在開始之前，先載入會使用到的函式庫，並且讀取資料。"
   ]
  },
  {
   "cell_type": "code",
   "execution_count": null,
   "metadata": {},
   "outputs": [],
   "source": [
    "%matplotlib inline\n",
    "\n",
    "import numpy as np\n",
    "import pandas as pd\n",
    "import matplotlib.pyplot as plt\n",
    "from netCDF4 import Dataset\n",
    "from sklearn.decomposition import PCA\n",
    "import os\n",
    "#os.environ['PROJ_LIB'] = '/Users/tsyo/anaconda/share/proj/'\n",
    "os.environ['PROJ_LIB'] = 'C:\\\\usr\\\\Anaconda3\\\\Library\\\\share\\\\'\n",
    "from mpl_toolkits.basemap import Basemap\n",
    "\n",
    "sstds = Dataset('../data/sst.mon.mean.subset.nc')\n",
    "\n",
    "sstds.variables.keys()"
   ]
  },
  {
   "cell_type": "markdown",
   "metadata": {
    "slideshow": {
     "slide_type": "slide"
    }
   },
   "source": [
    "## 繪圖前的準備\n",
    "\n",
    "設定繪圖範圍，並製作資料網格。"
   ]
  },
  {
   "cell_type": "code",
   "execution_count": null,
   "metadata": {},
   "outputs": [],
   "source": [
    "sst = np.array(sstds.variables['sst'])\n",
    "nt, ny, nx = sst.shape\n",
    "print(sst.shape)\n",
    "\n",
    "# Retrieve the longitude and lattitude from data\n",
    "lons = sstds.variables['lon'][:]\n",
    "lats = sstds.variables['lat'][:]\n",
    "print('Lons: ' + str(lons[0]) + ' ~ ' + str(lons[-1]))\n",
    "print('Lats: ' + str(lats[0]) + ' ~ ' + str(lats[-1]))\n",
    "# compute map projection coordinates for lat/lon grid.\n",
    "x, y = np.meshgrid(lons,lats)"
   ]
  },
  {
   "cell_type": "markdown",
   "metadata": {
    "slideshow": {
     "slide_type": "slide"
    }
   },
   "source": [
    "## 先看看資料的概況\n",
    "\n",
    "我們先看看600個月的平均海溫的分佈如何。"
   ]
  },
  {
   "cell_type": "code",
   "execution_count": null,
   "metadata": {},
   "outputs": [],
   "source": [
    "# create figure and axes instances\n",
    "fig = plt.figure(figsize=(8,5))\n",
    "\n",
    "# create a Basemap instance.\n",
    "m = Basemap(llcrnrlon=125., urcrnrlon=325., llcrnrlat=-15, urcrnrlat=15.)\n",
    "\n",
    "# draw coastlines, state and country boundaries, edge of map.\n",
    "m.drawcoastlines()\n",
    "\n",
    "# Add some titles to make the plot readable by someone else\n",
    "plt.title('Sea Surface Temperature (degree C)')\n",
    "\n",
    "# make filled contour plot.\n",
    "cs = m.contourf(x, y, sst.mean(axis=0), 20, cmap=plt.cm.jet)\n",
    "m.colorbar()\n",
    "plt.show()"
   ]
  },
  {
   "cell_type": "markdown",
   "metadata": {
    "slideshow": {
     "slide_type": "slide"
    }
   },
   "source": [
    "## 主成分分析\n",
    "\n",
    "主成分分析是針對二維矩陣，因此我們先把 (ny,nx) 的二維海溫分布資料拉平成唯一維的向量，然後針對一個 (nt, ny\\*nx) 的矩陣進行分析。"
   ]
  },
  {
   "cell_type": "code",
   "execution_count": null,
   "metadata": {},
   "outputs": [],
   "source": [
    "# PCA\n",
    "sstf = np.array(sst).reshape(nt, ny*nx)                     # Flatten the 2D aaray for PCA\n",
    "pca = PCA(n_components=10)                                  # Initialize a PCA with 10 PCs\n",
    "pca.fit(sstf)                                               # Calculate PCA\n",
    "proj = pca.transform(sstf)                                  # Derive the time series of 10 PCs\n",
    "# See prelimirary results of PCA\n",
    "print(np.cumsum(pca.explained_variance_ratio_))\n",
    "plt.bar(range(10),pca.explained_variance_ratio_)\n",
    "plt.plot(np.cumsum(pca.explained_variance_ratio_), 'r-')\n",
    "plt.show()"
   ]
  },
  {
   "cell_type": "markdown",
   "metadata": {},
   "source": [
    "從結果看來，前兩個主成分就可以解釋 93% 的變異，那我們就來看看他們是什麼樣子。"
   ]
  },
  {
   "cell_type": "markdown",
   "metadata": {
    "slideshow": {
     "slide_type": "slide"
    }
   },
   "source": [
    "## PC1\n",
    "\n",
    "從時間序列上來看，很像是每年的季節變化，而空間分布上也與50年平均相似。"
   ]
  },
  {
   "cell_type": "code",
   "execution_count": null,
   "metadata": {},
   "outputs": [],
   "source": [
    "# create figure and axes instances\n",
    "fig = plt.figure(figsize=(8,5))\n",
    "\n",
    "# create a Basemap instance.\n",
    "m = Basemap(llcrnrlon=125., urcrnrlon=325., llcrnrlat=-15, urcrnrlat=15.)\n",
    "\n",
    "# draw coastlines, state and country boundaries, edge of map.\n",
    "m.drawcoastlines()\n",
    "\n",
    "# Add some titles to make the plot readable by someone else\n",
    "plt.title('PC1')\n",
    "\n",
    "# make filled contour plot of PC1.\n",
    "cs = m.contourf(x, y, pca.components_[0].reshape(ny,nx), 20, cmap=plt.cm.jet)\n",
    "m.colorbar()\n",
    "plt.show()\n",
    "\n",
    "# Time series of PC1\n",
    "plt.plot(proj[:60,0], 'b-')\n",
    "plt.show()\n",
    "\n",
    "# Time series of PC1\n",
    "plt.plot(proj[:,0], 'b-')\n",
    "plt.show()"
   ]
  },
  {
   "cell_type": "markdown",
   "metadata": {
    "slideshow": {
     "slide_type": "slide"
    }
   },
   "source": [
    "## PC2\n",
    "\n",
    "從空間分布上來看，是東太平洋一正一負的變化，而時間上有比較低頻（長於1年）的變化。"
   ]
  },
  {
   "cell_type": "code",
   "execution_count": null,
   "metadata": {},
   "outputs": [],
   "source": [
    "# create figure and axes instances\n",
    "fig = plt.figure(figsize=(8,5))\n",
    "\n",
    "# create a Basemap instance.\n",
    "m = Basemap(llcrnrlon=125., urcrnrlon=325., llcrnrlat=-15, urcrnrlat=15.)\n",
    "\n",
    "# draw coastlines, state and country boundaries, edge of map.\n",
    "m.drawcoastlines()\n",
    "\n",
    "# Add some titles to make the plot readable by someone else\n",
    "plt.title('PC2')\n",
    "\n",
    "# make filled contour plot.\n",
    "cs = m.contourf(x, y, pca.components_[1].reshape(ny,nx), 20, cmap=plt.cm.jet)\n",
    "m.colorbar()\n",
    "plt.show()\n",
    "\n",
    "# Time series of PC1\n",
    "plt.plot(proj[:60,1], 'b-')\n",
    "plt.show()\n",
    "\n",
    "# Time series of PC1\n",
    "plt.plot(proj[:,1], 'b-')\n",
    "plt.show()"
   ]
  },
  {
   "cell_type": "markdown",
   "metadata": {
    "slideshow": {
     "slide_type": "slide"
    }
   },
   "source": [
    "基本上，PC2 就是後來取名為聖嬰現象的特殊海溫型態，有興趣深入探究的話，可以參考[Bjerknes 1969 年的論文](https://journals.ametsoc.org/doi/10.1175/1520-0493%281969%29097%3C0163%3AATFTEP%3E2.3.CO%3B2)，或是[較新近的回顧文獻](https://academic.oup.com/nsr/advance-article/doi/10.1093/nsr/nwy104/5126370)，並且從 NOAA 下載更完整的資料集來進行分析。"
   ]
  },
  {
   "cell_type": "code",
   "execution_count": null,
   "metadata": {},
   "outputs": [],
   "source": []
  }
 ],
 "metadata": {
  "celltoolbar": "Slideshow",
  "kernelspec": {
   "display_name": "Python 3",
   "language": "python",
   "name": "python3"
  },
  "language_info": {
   "codemirror_mode": {
    "name": "ipython",
    "version": 3
   },
   "file_extension": ".py",
   "mimetype": "text/x-python",
   "name": "python",
   "nbconvert_exporter": "python",
   "pygments_lexer": "ipython3",
   "version": "3.6.7"
  }
 },
 "nbformat": 4,
 "nbformat_minor": 2
}
