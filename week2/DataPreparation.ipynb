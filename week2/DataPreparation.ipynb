{
 "cells": [
  {
   "cell_type": "code",
   "execution_count": null,
   "metadata": {
    "slideshow": {
     "slide_type": "skip"
    }
   },
   "outputs": [],
   "source": [
    "## %matplotlib inline\n",
    "import matplotlib.pyplot as plt\n",
    "import numpy as np\n",
    "import pandas as pd"
   ]
  },
  {
   "cell_type": "markdown",
   "metadata": {
    "slideshow": {
     "slide_type": "slide"
    }
   },
   "source": [
    "# Data Preparation\n",
    "\n",
    "*Course Module: Getting and Cleaning Data*\n",
    "\n",
    "--------\n",
    "\n",
    "Ting-Shuo Yo 2018\n"
   ]
  },
  {
   "cell_type": "markdown",
   "metadata": {
    "slideshow": {
     "slide_type": "slide"
    }
   },
   "source": [
    "## 關於本課程\n",
    "\n",
    "這段課程的主題是「如何準備好分析要用的資料」，包含以下概念：\n",
    "\n",
    "- 尋找與擷取「原始資料」(raw data)\n",
    "- 「整齊資料」(Tidy data) 的原則，以及如何讓資料整齊\n",
    "- 相關的 Python 套件\n",
    "- 實際案例練習"
   ]
  },
  {
   "cell_type": "markdown",
   "metadata": {
    "slideshow": {
     "slide_type": "slide"
    }
   },
   "source": [
    "## 你期待資料的樣子\n",
    "\n",
    "<img class=center src=figures/excel.png width=80%>"
   ]
  },
  {
   "cell_type": "markdown",
   "metadata": {
    "slideshow": {
     "slide_type": "slide"
    }
   },
   "source": [
    "## 資料實際上的長相\n",
    "\n",
    "<img class=center src=figures/fastq.png width=80%/>\n",
    "\n",
    "\n",
    "[http://brianknaus.com/software/srtoolbox/s_4_1_sequence80.txt](http://brianknaus.com/software/srtoolbox/s_4_1_sequence80.txt)\n"
   ]
  },
  {
   "cell_type": "markdown",
   "metadata": {
    "slideshow": {
     "slide_type": "slide"
    }
   },
   "source": [
    "## 資料在哪裡？\n",
    "\n",
    "<img class=center src=figures/databases.png height=400/>\n",
    "\n",
    "\n",
    "[http://rickosborne.org/blog/2010/02/infographic-migrating-from-sql-to-mapreduce-with-mongodb/](http://rickosborne.org/blog/2010/02/infographic-migrating-from-sql-to-mapreduce-with-mongodb/)\n"
   ]
  },
  {
   "cell_type": "markdown",
   "metadata": {
    "slideshow": {
     "slide_type": "slide"
    }
   },
   "source": [
    "## 資料在哪裡？\n",
    "\n",
    "<img class=center src=figures/twitter.png width=80%/>\n",
    "\n",
    "[https://dev.twitter.com/docs/api/1/get/blocks/blocking](https://dev.twitter.com/docs/api/1/get/blocks/blocking)\n"
   ]
  },
  {
   "cell_type": "markdown",
   "metadata": {
    "slideshow": {
     "slide_type": "slide"
    }
   },
   "source": [
    "## 資料在哪裡？\n",
    "\n",
    "<img class=center src=figures/data_gov_tw.jpg height= 400/>\n",
    "\n",
    "[http://data.gov.tw//](http://data.gov.tw//)\n"
   ]
  },
  {
   "cell_type": "markdown",
   "metadata": {
    "slideshow": {
     "slide_type": "slide"
    }
   },
   "source": [
    "# 到哪裡去找資料？學術研究資料\n",
    "\n",
    "- 在大部分的科學研究領域，**資料**都是耗費相當的時間與金錢，經過繁複的程序才取得的，一般來說都非常寶貴，在論文發表之前，不會輕易與其他人分享。\n",
    "- 多年來，經由許多資料分析領域的研究人員的推廣，有些學者開始將已經發表過的學術研究資料公開，讓學生以及開發新研究方法的研究人員，有可以拿來做練習的資料。\n",
    "- 過去， [UCI Machine Learning Repository](https://www.kaggle.com/uciml) 收集了大量的資料集，目前則由 [Kaggle](https://www.kaggle.com/) 延續了這個任務。\n"
   ]
  },
  {
   "cell_type": "markdown",
   "metadata": {
    "slideshow": {
     "slide_type": "slide"
    }
   },
   "source": [
    "# 到哪裡去找資料？開放資料\n",
    "\n",
    "近年來的由於[開放資料](https://zh.wikipedia.org/wiki/%E9%96%8B%E6%94%BE%E8%B3%87%E6%96%99)（Open Data）的發展，各國政府也開始將部分資料公開給社會大眾使用，例如我們課程範例中的很多資料，就是從[政府開放資料平台]((http://data.gov.tw//))取得。\n",
    "\n",
    "然而，氣象資料本身有特殊的屬性，無法輕易從一般管道取得，我們介紹一些對外公開的管道。\n"
   ]
  },
  {
   "cell_type": "markdown",
   "metadata": {
    "slideshow": {
     "slide_type": "slide"
    }
   },
   "source": [
    "## Where to Get Reanalysis Data\n",
    "\n",
    "- [ECMWF Datasets](https://www.ecmwf.int/en/forecasts/datasets)\n",
    "- [NCEP / NCAR Reanalysis](https://www.esrl.noaa.gov/psd/data/gridded/data.ncep.reanalysis.html)\n",
    "\n"
   ]
  },
  {
   "cell_type": "markdown",
   "metadata": {
    "slideshow": {
     "slide_type": "slide"
    }
   },
   "source": [
    "## Where to Get Satellite Data\n",
    "\n",
    "1. [USGS Earth Explorer](https://earthexplorer.usgs.gov/)\n",
    "2. [ESA’s Sentinel Mission](https://scihub.copernicus.eu/dhus/#/home)\n",
    "3. [NOAA CLASS](https://www.bou.class.noaa.gov/saa/products/welcome;jsessionid=844EEAC02233CDC6D6054BE24A9499B7)\n",
    "4. [NASA Reverb](https://search.earthdata.nasa.gov/search)\n",
    "\n",
    "### [15 Free Satellite Imagery Data Sources](https://gisgeography.com/free-satellite-imagery-data-list/)"
   ]
  },
  {
   "cell_type": "markdown",
   "metadata": {
    "slideshow": {
     "slide_type": "slide"
    }
   },
   "source": [
    "## Where to Get Sounding Data\n",
    "\n",
    "- [Atmospheric Soundings Archive from University of Wyoming](http://weather.uwyo.edu/upperair/sounding.html)\n",
    "- [NOAA Integrated Global RadioSonde Archive(IGRA)](https://www.ncdc.noaa.gov/data-access/weather-balloon/integrated-global-radiosonde-archive)\n",
    "- [中央氣象局](https://www.cwb.gov.tw/V7/station/graph.htm) (plot only, no raw data provided.)"
   ]
  },
  {
   "cell_type": "markdown",
   "metadata": {
    "slideshow": {
     "slide_type": "slide"
    }
   },
   "source": [
    "## 課程目標\n",
    "\n",
    "**原始資料** -> **資料處理** -> **整齊資料**</rt> -> 資料分析 -> 資料溝通\n"
   ]
  },
  {
   "cell_type": "markdown",
   "metadata": {
    "slideshow": {
     "slide_type": "slide"
    }
   },
   "source": [
    "# 原始資料與整齊資料"
   ]
  },
  {
   "cell_type": "markdown",
   "metadata": {
    "slideshow": {
     "slide_type": "slide"
    }
   },
   "source": [
    "## 資料的定義\n",
    "\n",
    "<q>資料是以數值的方式呈現，用來描述特定對象的性質或數量</q>\n",
    "\n",
    "_Data are values of qualitative or quantitative variables, belonging to a set of items._\n",
    "\n",
    "[http://en.wikipedia.org/wiki/Data](http://en.wikipedia.org/wiki/Data)\n"
   ]
  },
  {
   "cell_type": "markdown",
   "metadata": {
    "slideshow": {
     "slide_type": "slide"
    }
   },
   "source": [
    "## 資料的定義\n",
    "\n",
    "<q>資料是以數值的方式呈現，用來描述特定對象的性質或數量</q>\n",
    "\n",
    "<q>Data are values of qualitative or quantitative variables, belonging to a <font color='red'>set of items</font>.</q>\n",
    "\n",
    "[http://en.wikipedia.org/wiki/Data](http://en.wikipedia.org/wiki/Data)\n",
    "\n",
    "__Set of items__: Sometimes called the population; the set of objects you are interested in\n"
   ]
  },
  {
   "cell_type": "markdown",
   "metadata": {
    "slideshow": {
     "slide_type": "slide"
    }
   },
   "source": [
    "## 資料的定義\n",
    "\n",
    "<q>資料是以數值的方式呈現，用來描述特定對象的性質或數量</q>\n",
    "\n",
    "<q>Data are values of <font color=red>qualitative</font> or <font color=red>quantitative</font> variables, belonging to a set of items.</q>\n",
    "\n",
    "[http://en.wikipedia.org/wiki/Data](http://en.wikipedia.org/wiki/Data)\n",
    "\n",
    "__Qualitative__: Country of origin, sex, treatment\n",
    "\n",
    "__Quantitative__: Height, weight, blood pressure"
   ]
  },
  {
   "cell_type": "markdown",
   "metadata": {
    "slideshow": {
     "slide_type": "slide"
    }
   },
   "source": [
    "## 原始資料與整齊資料\n",
    "\n",
    "__原始資料__\n",
    "\n",
    "* 資料的原始型態\n",
    "* 通常很難直接拿來分析\n",
    "* 資料分析包括「清理與處理」\n",
    "* 原始資料可能只需要處理一次\n",
    "\n",
    "[http://en.wikipedia.org/wiki/Raw_data](http://en.wikipedia.org/wiki/Raw_data)\n"
   ]
  },
  {
   "cell_type": "markdown",
   "metadata": {
    "slideshow": {
     "slide_type": "slide"
    }
   },
   "source": [
    "## 原始資料與整齊資料\n",
    "\n",
    "__整齊資料__\n",
    "\n",
    "* 可以直接用於分析的資料\n",
    "* 處理的步驟可能包括合併、分割、轉換等等\n",
    "* 資料的處理可能需要符合固定的標準\n",
    "* 資料處理的每一道程序最好都記錄下來\n",
    "\n",
    "[http://en.wikipedia.org/wiki/Computer_data_processing](http://en.wikipedia.org/wiki/Computer_data_processing)\n"
   ]
  },
  {
   "cell_type": "markdown",
   "metadata": {
    "slideshow": {
     "slide_type": "slide"
    }
   },
   "source": [
    "## 常用的資料整理技巧\n",
    "\n",
    "* 資料分割（Subseting）\n",
    "* 資料排序（Sorting）\n",
    "* 增加新變項（Creating new variables）\n",
    "* 資料摘要（Summarizing）\n",
    "* 資料重整（Reshaping data）\n",
    "* 資料合併（Merging data）\n",
    "\n",
    "主要使用到的套件：*NumPy* and *Pandas*"
   ]
  },
  {
   "cell_type": "markdown",
   "metadata": {
    "slideshow": {
     "slide_type": "slide"
    }
   },
   "source": [
    "# 資料分割（Subseting）\n",
    "\n",
    "讓我們先隨機產生一些資料："
   ]
  },
  {
   "cell_type": "code",
   "execution_count": null,
   "metadata": {
    "slideshow": {
     "slide_type": "-"
    }
   },
   "outputs": [],
   "source": [
    "np.random.seed(12345)\n",
    "X = pd.DataFrame({'var1':np.random.permutation(5), \n",
    "                  'var2':np.random.permutation(5)+5, \n",
    "                  'var3':np.random.permutation(5)+10}, index=range(1,6))\n",
    "X.iloc[0:3:2, 1] = None\n",
    "X\n"
   ]
  },
  {
   "cell_type": "markdown",
   "metadata": {
    "slideshow": {
     "slide_type": "slide"
    }
   },
   "source": [
    "## 資料分割\n",
    "\n",
    "先來複習一下 `pandas.DataFrame` 的 indexing"
   ]
  },
  {
   "cell_type": "code",
   "execution_count": null,
   "metadata": {},
   "outputs": [],
   "source": [
    "X.iloc[:,0]"
   ]
  },
  {
   "cell_type": "code",
   "execution_count": null,
   "metadata": {},
   "outputs": [],
   "source": [
    "X.loc[0:3,'var2']"
   ]
  },
  {
   "cell_type": "code",
   "execution_count": null,
   "metadata": {},
   "outputs": [],
   "source": [
    "X['var2'][0:3]"
   ]
  },
  {
   "cell_type": "markdown",
   "metadata": {
    "slideshow": {
     "slide_type": "slide"
    }
   },
   "source": [
    "## 資料分割\n",
    "\n",
    "之前的課程也示範過 `pandas.DataFrame` 的篩選"
   ]
  },
  {
   "cell_type": "code",
   "execution_count": null,
   "metadata": {},
   "outputs": [],
   "source": [
    "data = pd.read_csv('../data/cwb_earthquake_20181101.csv')\n",
    "mean_strength = data['規模'].mean()\n",
    "depth_above_average = data.loc[data['規模']>mean_strength, '深度'].mean()\n",
    "depth_bellow_average = data.loc[data['規模']<=mean_strength, '深度'].mean()\n",
    "print(\"Average depth of strong earthquake: \" + str(depth_above_average))\n",
    "print(\"Average depth of weak earthquake: \" + str(depth_bellow_average))\n",
    "depth_above_average - depth_bellow_average"
   ]
  },
  {
   "cell_type": "markdown",
   "metadata": {
    "slideshow": {
     "slide_type": "slide"
    }
   },
   "source": [
    "## 使用 *and* and *or* 來組合篩選條件\n",
    "\n",
    "資料的篩選也可以透過多個條件的組合，主要是以 `set` 的邏輯運算來進行："
   ]
  },
  {
   "cell_type": "code",
   "execution_count": null,
   "metadata": {},
   "outputs": [],
   "source": [
    "data[(data['規模']>5) & (data['深度']<8)]"
   ]
  },
  {
   "cell_type": "markdown",
   "metadata": {
    "slideshow": {
     "slide_type": "slide"
    }
   },
   "source": [
    "## 透過 pandas.DataFrame 選取資料\n",
    "\n",
    "從前面的例子我們可以看到，pandas.DataFrame 提供了多種選擇資料的方式，顯得有點令人混淆。例如，我們可以直接用數字來選取某一筆資料，像是`data[1]`；或是範圍式的選取，例如：`data[1:3]`，這樣的選取方式使用了 Python 預設的 list operation。"
   ]
  },
  {
   "cell_type": "code",
   "execution_count": null,
   "metadata": {},
   "outputs": [],
   "source": [
    "data = pd.Series(['a', 'b', 'c'], index=[1, 3, 5])\n",
    "data"
   ]
  },
  {
   "cell_type": "code",
   "execution_count": null,
   "metadata": {},
   "outputs": [],
   "source": [
    "# explicit index when indexing\n",
    "data[1]"
   ]
  },
  {
   "cell_type": "code",
   "execution_count": null,
   "metadata": {},
   "outputs": [],
   "source": [
    "# implicit index when slicing\n",
    "data[1:3]"
   ]
  },
  {
   "cell_type": "markdown",
   "metadata": {
    "slideshow": {
     "slide_type": "slide"
    }
   },
   "source": [
    "## 選取資料: loc\n",
    "\n",
    "由上面的例子裡，我們可以看到用「整數」當做行列指標潛在的問題：當行列本身的標籤也是整數時，會造成混淆。因此，pandas 提供了一些額外的資料選擇方式: `loc`, `iloc`。\n",
    "\n",
    "我們首先介紹的是 `loc`，凡是透過這個方法選擇的，一律參考資料列的標籤："
   ]
  },
  {
   "cell_type": "code",
   "execution_count": null,
   "metadata": {},
   "outputs": [],
   "source": [
    "data.loc[1]"
   ]
  },
  {
   "cell_type": "code",
   "execution_count": null,
   "metadata": {},
   "outputs": [],
   "source": [
    "data.loc[1:3]"
   ]
  },
  {
   "cell_type": "markdown",
   "metadata": {
    "slideshow": {
     "slide_type": "slide"
    }
   },
   "source": [
    "## 選取資料: iloc\n",
    "\n",
    "第二種是 pandas.DataFrame 的 `iloc` 函數，則是一律使用 python list 的預設選擇方式："
   ]
  },
  {
   "cell_type": "code",
   "execution_count": null,
   "metadata": {},
   "outputs": [],
   "source": [
    "data.iloc[1]"
   ]
  },
  {
   "cell_type": "code",
   "execution_count": null,
   "metadata": {},
   "outputs": [],
   "source": [
    "data.iloc[1:3]"
   ]
  },
  {
   "cell_type": "markdown",
   "metadata": {
    "slideshow": {
     "slide_type": "slide"
    }
   },
   "source": [
    "# 資料排序（Sorting）\n",
    "\n",
    "資料的排序是整理資料經常用到的功能，讓我們用台灣六個直轄市的面積和人口資料做例子："
   ]
  },
  {
   "cell_type": "code",
   "execution_count": null,
   "metadata": {},
   "outputs": [],
   "source": [
    "area = pd.Series({'Kaohsiung City': 2951.85, 'New Taipei City': 2052.57,\n",
    "                  'Taichung City': 2214.90, 'Tainan City': 2191.65,\n",
    "                  'Taipei City': 271.80, 'Taoyuan City': 1220.83})\n",
    "pop = pd.Series({'Kaohsiung City': 2778729, 'New Taipei City': 3971250,\n",
    "                 'Taichung City': 2746112, 'Tainan City': 1885550,\n",
    "                 'Taipei City': 2704974, 'Taoyuan City': 2108786})\n",
    "citydata = pd.DataFrame({'area':area, 'pop':pop})\n",
    "citydata"
   ]
  },
  {
   "cell_type": "markdown",
   "metadata": {
    "slideshow": {
     "slide_type": "slide"
    }
   },
   "source": [
    "## Sorting with Pandas\n",
    "\n",
    "*pandas* 提供了兩種基本的排序工具：\n",
    "\n",
    "1. **`sort_values()`**: 依據某個欄位的值排序\n",
    "2. **`sort_index()`**: 依據數據及的列名稱排序"
   ]
  },
  {
   "cell_type": "code",
   "execution_count": null,
   "metadata": {},
   "outputs": [],
   "source": [
    "citydata.sort_index()"
   ]
  },
  {
   "cell_type": "markdown",
   "metadata": {
    "slideshow": {
     "slide_type": "slide"
    }
   },
   "source": [
    "## 排序預設由小到大\n"
   ]
  },
  {
   "cell_type": "code",
   "execution_count": null,
   "metadata": {},
   "outputs": [],
   "source": [
    "citydata.sort_values('pop')"
   ]
  },
  {
   "cell_type": "code",
   "execution_count": null,
   "metadata": {},
   "outputs": [],
   "source": [
    "citydata.sort_values('area',ascending=False)"
   ]
  },
  {
   "cell_type": "markdown",
   "metadata": {
    "slideshow": {
     "slide_type": "slide"
    }
   },
   "source": [
    "# 產生新資料變項\n",
    "\n",
    "## 資料還不夠多嗎？為什麼要產生新資料變項？\n",
    "\n",
    "* 通常原始資料並不包含我們想分析的變項（例如：「氣象參數」與「特定天氣事件」）\n",
    "* 我們需要透過一些計算或轉換，算出我們感興趣的變項\n",
    "* 一般來說，我們會把新變項加到原本分析的 DataFrame 裡\n",
    "* 常見的新增變項：\n",
    "  * 遺失值指標\n",
    "  * 把連續數字轉換成類別\n",
    "  * 轉換函數"
   ]
  },
  {
   "cell_type": "markdown",
   "metadata": {
    "slideshow": {
     "slide_type": "slide"
    }
   },
   "source": [
    "## 產生新變數\n",
    "\n",
    "例如，前面用到的台灣六個直轄市的面積和人口資料，我們真正感興趣的是「人口密度」。我們知道：\n",
    "\n",
    "        人口密度 ＝ 總人口 / 總面積\n",
    "\n",
    "但是要怎麼加進原本的資料集裡呢？"
   ]
  },
  {
   "cell_type": "code",
   "execution_count": null,
   "metadata": {},
   "outputs": [],
   "source": [
    "citydata['density'] = citydata['pop'] / citydata['area']\n",
    "citydata.sort_values('density',ascending=False)"
   ]
  },
  {
   "cell_type": "markdown",
   "metadata": {
    "slideshow": {
     "slide_type": "slide"
    }
   },
   "source": [
    "## 範例：2018年9月的公司登記清冊\n",
    "\n",
    "讓我們用一組新的資料來做示範。我們到[政府開放資料平台](https://data.gov.tw/)下載2018年9月的[公司設立登記清冊](https://data.gov.tw/dataset/6047)。\n",
    "\n",
    "`pandas.DataFrame.head()` 會列出資料集的前五筆資料。"
   ]
  },
  {
   "cell_type": "code",
   "execution_count": null,
   "metadata": {},
   "outputs": [],
   "source": [
    "data = pd.read_csv('../data/company_registration_201809.csv')\n",
    "data.head()"
   ]
  },
  {
   "cell_type": "markdown",
   "metadata": {
    "slideshow": {
     "slide_type": "slide"
    }
   },
   "source": [
    "## 產生新變項：處理過的變數\n",
    "\n",
    "有時候原始資料並不包含我們想分析的變項，例如我們想知道的是新登記公司在各縣市的分佈，所以我們把「公司所在地」的前三個字抓出來當做行政區："
   ]
  },
  {
   "cell_type": "code",
   "execution_count": null,
   "metadata": {},
   "outputs": [],
   "source": [
    "city = [x[:3] for x in data['公司所在地']]\n",
    "data['city'] = city\n",
    "data.head()"
   ]
  },
  {
   "cell_type": "markdown",
   "metadata": {
    "slideshow": {
     "slide_type": "slide"
    }
   },
   "source": [
    "## 產生新變項：變項的類別轉換\n",
    "\n",
    "公司的資本額可以有很多不同的數字，但是我們關心的可能只有少數類別所以可以利用 `pandas.cut`（依指定間距） 或 `pandas.qcut`（依百分等級） 來將連續變項轉換為等級變項："
   ]
  },
  {
   "cell_type": "code",
   "execution_count": null,
   "metadata": {},
   "outputs": [],
   "source": [
    "data['capital'] = pd.qcut(data['資本額'], q=[0, .25, .50, .75, 1.00])\n",
    "print(pd.crosstab(data['capital'], 'count'))\n",
    "data.head()"
   ]
  },
  {
   "cell_type": "markdown",
   "metadata": {
    "slideshow": {
     "slide_type": "slide"
    }
   },
   "source": [
    "以利用 `pandas.cut`（依指定間距） 或 `pandas.qcut`（依百分等級） 來將連續變項轉換為等級變項時，可以指定類別名稱，或是自動用數字當做標籤："
   ]
  },
  {
   "cell_type": "code",
   "execution_count": null,
   "metadata": {},
   "outputs": [],
   "source": [
    "data['capital'] = pd.qcut(data['資本額'], q=[0, .25, .50, .75, 1.00], labels=False)\n",
    "data.head()"
   ]
  },
  {
   "cell_type": "code",
   "execution_count": null,
   "metadata": {},
   "outputs": [],
   "source": [
    "data['capital'] = pd.qcut(data['資本額'], q=[0, .25, .50, .75, 1.00], labels=['30萬以下','100萬以下','200萬以下','200萬以上'])\n",
    "data.head()"
   ]
  },
  {
   "cell_type": "code",
   "execution_count": null,
   "metadata": {
    "slideshow": {
     "slide_type": "skip"
    }
   },
   "outputs": [],
   "source": [
    "company_reg_data = data"
   ]
  },
  {
   "cell_type": "markdown",
   "metadata": {
    "slideshow": {
     "slide_type": "slide"
    }
   },
   "source": [
    "## 遺失值的處理（missing values）\n",
    "\n",
    "資料遺失是極為常見的情況，pandas 當初設計的目的之一就包括了簡化遺失值處理的程序。舉例來說：pandas 提供的各個描述統計函數（平均值、標準差、百分位數...)，在計算時都會自動剔除遺失值。\n",
    "\n"
   ]
  },
  {
   "cell_type": "code",
   "execution_count": null,
   "metadata": {},
   "outputs": [],
   "source": [
    "np.random.seed(12345)\n",
    "X = pd.DataFrame({'var1':np.random.permutation(5), \n",
    "                  'var2':np.random.permutation(5)+5, \n",
    "                  'var3':np.random.permutation(5)+10}, index=range(1,6))\n",
    "X.iloc[0:3:2, 1] = None\n",
    "print(X)\n",
    "X['var2'].mean()"
   ]
  },
  {
   "cell_type": "markdown",
   "metadata": {
    "slideshow": {
     "slide_type": "slide"
    }
   },
   "source": [
    "## Pandas 內建的遺失值處理工具\n",
    "\n",
    "|Argument| Description|\n",
    "|--------|------------|\n",
    "|dropna| Filter axis labels based on whether values for each label have missing data.|\n",
    "|fillna| Fill in missing data with some value or using an interpolation method such as 'ffill' or 'bfill'.|\n",
    "|isnull| Return link-type object containing boolean values indicating which values are missing / NA.|\n",
    "|notnull| Negation of isnull.|\n",
    "\n",
    "`DataFrame.dropna()` 是最簡單的遺失值處理方法：直接把有遺失值的資料列或欄位剔除。"
   ]
  },
  {
   "cell_type": "code",
   "execution_count": null,
   "metadata": {},
   "outputs": [],
   "source": [
    "X"
   ]
  },
  {
   "cell_type": "code",
   "execution_count": null,
   "metadata": {},
   "outputs": [],
   "source": [
    "X.dropna()"
   ]
  },
  {
   "cell_type": "markdown",
   "metadata": {
    "slideshow": {
     "slide_type": "slide"
    }
   },
   "source": [
    "## 遺失的資料原本應該是什麼？\n",
    "\n",
    "遺失值的處理是一個專門的研究主題，「遺失的資料原本應該是什麼」本身就是個艱難的問題，例如：\n",
    "\n",
    "- 資料遺失的發生是完全隨機的，還是系統性的隨機？\n",
    "- 資料遺失如果不是隨機發生，背後有什麼特殊的意義？\n",
    "\n",
    "這些問題與資料本身的特性有關，對科學研究本身至關重要，但在課程裡我們聚焦在處理遺失值的工具上。除了最簡單的「放棄資料」之外，pandas 還提供了 `DataFrame.fillna()` 、 `DataFrame.interpolate()` 這些簡單的工具讓我們可以快速的填入值。"
   ]
  },
  {
   "cell_type": "markdown",
   "metadata": {
    "slideshow": {
     "slide_type": "slide"
    }
   },
   "source": [
    " `DataFrame.fillna()` 讓我們可以快速的填入一個指定值。詳細的使用方法可以參考[使用手冊](https://pandas.pydata.org/pandas-docs/stable/generated/pandas.DataFrame.fillna.html)。"
   ]
  },
  {
   "cell_type": "code",
   "execution_count": null,
   "metadata": {},
   "outputs": [],
   "source": [
    "X"
   ]
  },
  {
   "cell_type": "code",
   "execution_count": null,
   "metadata": {},
   "outputs": [],
   "source": [
    "X.fillna(0)"
   ]
  },
  {
   "cell_type": "code",
   "execution_count": null,
   "metadata": {},
   "outputs": [],
   "source": [
    "X.fillna(method='bfill')"
   ]
  },
  {
   "cell_type": "markdown",
   "metadata": {
    "slideshow": {
     "slide_type": "slide"
    }
   },
   "source": [
    " `DataFrame.interpolate()` 則是提供了各種內插函數，從簡單的線性內插到 cubic-spline，以及更複雜的 model-based interpolation。使用的方法及限制可以參考[使用手冊](https://pandas.pydata.org/pandas-docs/stable/generated/pandas.DataFrame.interpolate.html#pandas.DataFrame.interpolate)。"
   ]
  },
  {
   "cell_type": "code",
   "execution_count": null,
   "metadata": {},
   "outputs": [],
   "source": [
    "X.interpolate()"
   ]
  },
  {
   "cell_type": "code",
   "execution_count": null,
   "metadata": {},
   "outputs": [],
   "source": [
    "X.interpolate(axis=1)"
   ]
  },
  {
   "cell_type": "markdown",
   "metadata": {
    "slideshow": {
     "slide_type": "slide"
    }
   },
   "source": [
    "# 資料摘要 (Summerizing)\n",
    "\n",
    "如同前面提到的，當我們取得一筆資料，無論是要填入遺失值或是進一步產生新變數，都需要先了解資料的特性。pandas 提供了[一些工具](https://pandas.pydata.org/pandas-docs/stable/api.html#api-dataframe-stats)讓我們可以快速的最資料集做摘要，列舉部分如下：\n",
    "\n",
    "- `DataFrame.describe()`：對數值變項做簡單的描述統計摘要\n",
    "- `DataFrame.head()` / `DataFrame.tail()`：顯示最前面/最後面的幾列資料\n",
    "- `DataFrame.quantile()`：\n"
   ]
  },
  {
   "cell_type": "code",
   "execution_count": null,
   "metadata": {},
   "outputs": [],
   "source": [
    "data = pd.read_csv('../data/data_sample1.csv')\n",
    "data.describe()"
   ]
  },
  {
   "cell_type": "markdown",
   "metadata": {
    "slideshow": {
     "slide_type": "slide"
    }
   },
   "source": [
    "`DataFrame.corr()` / `DataFrame.cov()` 可以快速的算出相關矩陣 / 共變數矩陣"
   ]
  },
  {
   "cell_type": "code",
   "execution_count": null,
   "metadata": {},
   "outputs": [],
   "source": [
    "data.corr()"
   ]
  },
  {
   "cell_type": "markdown",
   "metadata": {
    "slideshow": {
     "slide_type": "slide"
    }
   },
   "source": [
    "`pandas.crosstab()` 可以快速的做交叉分析表。例如，我們想看看每個月份氣溫高於80％百分位數的有幾天："
   ]
  },
  {
   "cell_type": "code",
   "execution_count": null,
   "metadata": {},
   "outputs": [],
   "source": [
    "data['hot'] = data['Temp'] >= data['Temp'].quantile(0.8)\n",
    "pd.crosstab(data['Month'],[data['hot'],'count'])"
   ]
  },
  {
   "cell_type": "markdown",
   "metadata": {
    "slideshow": {
     "slide_type": "slide"
    }
   },
   "source": [
    "又例如，我們想知道今年註冊的新公司，註冊所在地與資本額的關聯性："
   ]
  },
  {
   "cell_type": "code",
   "execution_count": null,
   "metadata": {},
   "outputs": [],
   "source": [
    "len(set(company_reg_data['city']))"
   ]
  },
  {
   "cell_type": "code",
   "execution_count": null,
   "metadata": {},
   "outputs": [],
   "source": [
    "pd.crosstab(company_reg_data['city'], [company_reg_data['capital'],'count'])"
   ]
  },
  {
   "cell_type": "markdown",
   "metadata": {},
   "source": [
    "發現有什麼問題嗎？"
   ]
  },
  {
   "cell_type": "markdown",
   "metadata": {
    "slideshow": {
     "slide_type": "slide"
    }
   },
   "source": [
    "## Quiz\n",
    "\n",
    "我們發現公司登記資料有一點小問題，怎麼修理它呢？"
   ]
  },
  {
   "cell_type": "code",
   "execution_count": null,
   "metadata": {},
   "outputs": [],
   "source": [
    "company_reg_data['city'=='台北市', 'city'] = '臺北市'\n",
    "company_reg_data['city'].value_counts()"
   ]
  },
  {
   "cell_type": "markdown",
   "metadata": {
    "slideshow": {
     "slide_type": "slide"
    }
   },
   "source": [
    "# 資料重整（Reshaping data）\n",
    "\n",
    "有時候資料並不是我們想要的排列方式，所以需要重新排列，`pandas.DataFrame.pivot()` 提供了這樣的功能。\n",
    "\n",
    "例如上述的測站資料，我們希望依照月/日來列出溫度："
   ]
  },
  {
   "cell_type": "code",
   "execution_count": null,
   "metadata": {},
   "outputs": [],
   "source": [
    "tmpdata = data.pivot(index='Month', columns='Day', values='Temp')\n",
    "tmpdata"
   ]
  },
  {
   "cell_type": "markdown",
   "metadata": {
    "slideshow": {
     "slide_type": "slide"
    }
   },
   "source": [
    "有時候，我們想要反過來，把眾多欄位變成一個單一的欄位， `pandas.DataFrame.melt()` 提供了這樣的功能。\n",
    "\n",
    "例如，上述的氣溫資料，我們希望把「日期─溫度」變成單一的索引："
   ]
  },
  {
   "cell_type": "code",
   "execution_count": null,
   "metadata": {},
   "outputs": [],
   "source": [
    "data.melt(id_vars=['Month','Day'], value_vars=['Temp','Ozone']).head()"
   ]
  },
  {
   "cell_type": "markdown",
   "metadata": {
    "slideshow": {
     "slide_type": "slide"
    }
   },
   "source": [
    "# 合併資料 (Merging data)\n",
    "\n",
    "有時候，我們的資料來自多個來源（檔案），但在分析前我們需要將資料合併。\n",
    "\n",
    "## Merge data with a key\n",
    "\n",
    "如果兩組資料有部分共同的欄位，我們可以透過這些欄位來進行「交集」（`join`）式的合併。"
   ]
  },
  {
   "cell_type": "code",
   "execution_count": null,
   "metadata": {},
   "outputs": [],
   "source": [
    "sub1 = pd.read_csv('../data/data_sample1_subset1.csv')\n",
    "sub2 = pd.read_csv('../data/data_sample1_subset2.csv')\n",
    "sub1.head()"
   ]
  },
  {
   "cell_type": "code",
   "execution_count": null,
   "metadata": {},
   "outputs": [],
   "source": [
    "sub2.head()"
   ]
  },
  {
   "cell_type": "markdown",
   "metadata": {
    "slideshow": {
     "slide_type": "slide"
    }
   },
   "source": [
    "`pandas.DataFrame.merge()` 可以將一個資料集依據指定的欄位併入另一個資料集，完整的函數用法可以參考[使用手冊](https://pandas.pydata.org/pandas-docs/stable/generated/pandas.DataFrame.merge.html#pandas.DataFrame.merge)。"
   ]
  },
  {
   "cell_type": "code",
   "execution_count": null,
   "metadata": {},
   "outputs": [],
   "source": [
    "fulldata = sub1.iloc[:,1:].merge(sub2.iloc[:,1:], on=['Month','Day'])\n",
    "fulldata.head()"
   ]
  },
  {
   "cell_type": "markdown",
   "metadata": {
    "slideshow": {
     "slide_type": "slide"
    }
   },
   "source": [
    "## Merge data vertically\n",
    "\n",
    "資料合併也可以是將新的資料列增加在原本資料的最後面，透過 `pandas.DataFrame.append()` 來完成。"
   ]
  },
  {
   "cell_type": "code",
   "execution_count": null,
   "metadata": {},
   "outputs": [],
   "source": [
    "d1 = pd.DataFrame({'a':[1,2,3],'b':[4,5,6]})\n",
    "d2 = pd.DataFrame({'a':[7,8,9],'b':[10,11,12]})\n",
    "d12 = d1.append(d2)\n",
    "d12"
   ]
  },
  {
   "cell_type": "code",
   "execution_count": null,
   "metadata": {
    "slideshow": {
     "slide_type": "skip"
    }
   },
   "outputs": [],
   "source": [
    "d12.reset_index(inplace=True)\n",
    "d12"
   ]
  },
  {
   "cell_type": "markdown",
   "metadata": {
    "slideshow": {
     "slide_type": "slide"
    }
   },
   "source": [
    "# Summary\n",
    "\n",
    "- 原始資料通常並不完整，需要經過整理，才能成為整齊資料\n",
    "- 資料整理的過程，可能包括：\n",
    "  - 資料分割與排序（Subseting and sorting）\n",
    "  - 資料摘要（Summarizing）\n",
    "  - 增加新變項（Creating new variables）\n",
    "  - 資料重整（Reshaping data）\n",
    "  - 資料合併（Merging data）\n",
    "- 清理資料可能是一個反覆探索的過程，也不一定有標準答案，所有步驟最好保留完整的紀錄\n",
    "- 理論再多，都不如實際體驗"
   ]
  }
 ],
 "metadata": {
  "celltoolbar": "Slideshow",
  "kernelspec": {
   "display_name": "Python 3",
   "language": "python",
   "name": "python3"
  },
  "language_info": {
   "codemirror_mode": {
    "name": "ipython",
    "version": 3
   },
   "file_extension": ".py",
   "mimetype": "text/x-python",
   "name": "python",
   "nbconvert_exporter": "python",
   "pygments_lexer": "ipython3",
   "version": "3.6.6"
  }
 },
 "nbformat": 4,
 "nbformat_minor": 2
}
