{
 "cells": [
  {
   "cell_type": "markdown",
   "metadata": {},
   "source": [
    "# Pandas\n",
    "\n",
    "*pandas* is an open source, BSD-licensed library providing high-performance, easy-to-use data structures and data analysis tools for the Python programming language.\n",
    "\n",
    "Pandas has several advantages:\n",
    "- Pandas provides powerful tools for processing table-like data.\n",
    "- Pandas adds indexes and labels to 1d and 2d NumPy arrays.\n",
    "- Easy handling of missing data.\n",
    "- Pandas DataFrame object can now be directly used by R.\n",
    "\n",
    "However, the majority of meteorological data is not *table-like*. We mainly take advatage of pandas's input/output capability."
   ]
  },
  {
   "cell_type": "code",
   "execution_count": null,
   "metadata": {},
   "outputs": [],
   "source": [
    "# Loading libraries\n",
    "import numpy as np\n",
    "import pandas as pd"
   ]
  },
  {
   "cell_type": "markdown",
   "metadata": {},
   "source": [
    "*Comma-Seperated Values* is a very common format for atble-like data. Let's see how we can read such a file into Python. The file *../data/ShiLin.PM2.5.csv* contains PM2.5 data of EPA's ShiLin station. Let's try to read it in numpy:"
   ]
  },
  {
   "cell_type": "code",
   "execution_count": null,
   "metadata": {},
   "outputs": [],
   "source": [
    "# Read data from a csv file\n",
    "data = np.genfromtxt('../data/ShiLin.PM2.5.csv', delimiter=',', encoding='utf-8')\n",
    "print(\"Data dimension: \" + str(data.shape))\n",
    "print(\"Show the first 5 rows:\")\n",
    "print(data[:5])"
   ]
  },
  {
   "cell_type": "markdown",
   "metadata": {},
   "source": [
    "And then, we read it with pandas."
   ]
  },
  {
   "cell_type": "code",
   "execution_count": null,
   "metadata": {},
   "outputs": [],
   "source": [
    "data = pd.read_csv('../data/ShiLin.PM2.5.csv', encoding='utf-8')\n",
    "print(\"Data dimension: \" + str(data.shape))\n",
    "print(\"Show the first 5 rows:\")\n",
    "print(data[:5])"
   ]
  },
  {
   "cell_type": "markdown",
   "metadata": {},
   "source": [
    "As you can see, `pandas.read_csv`  not only provides cleaner code, but also get more correct results.\n",
    "\n",
    "Besides data input/output, pandas also provides many functions for data manipulations. We will discuss these functions in details in the later topics."
   ]
  },
  {
   "cell_type": "code",
   "execution_count": null,
   "metadata": {},
   "outputs": [],
   "source": []
  }
 ],
 "metadata": {
  "kernelspec": {
   "display_name": "Python 3",
   "language": "python",
   "name": "python3"
  },
  "language_info": {
   "codemirror_mode": {
    "name": "ipython",
    "version": 3
   },
   "file_extension": ".py",
   "mimetype": "text/x-python",
   "name": "python",
   "nbconvert_exporter": "python",
   "pygments_lexer": "ipython3",
   "version": "3.7.1"
  }
 },
 "nbformat": 4,
 "nbformat_minor": 2
}
