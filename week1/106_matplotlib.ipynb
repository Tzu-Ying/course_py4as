{
 "cells": [
  {
   "cell_type": "markdown",
   "metadata": {},
   "source": [
    "# Matplotlib and more\n",
    "\n",
    "Matplotlib is a Python 2D plotting library which produces publication quality figures in a variety of hardcopy formats and interactive environments across platforms.\n",
    "\n",
    "Matplotlib tries to make easy things easy and hard things possible. You can generate plots, histograms, power spectra, bar charts, errorcharts, scatterplots, etc., with just a few lines of code. For examples, see the sample plots and thumbnail gallery.\n",
    "\n",
    "For simple plotting the pyplot module provides a MATLAB-like interface, particularly when combined with IPython. For the power user, you have full control of line styles, font properties, axes properties, etc, via an object oriented interface or via a set of functions familiar to MATLAB users.\n"
   ]
  },
  {
   "cell_type": "code",
   "execution_count": null,
   "metadata": {},
   "outputs": [],
   "source": [
    "%matplotlib inline"
   ]
  },
  {
   "cell_type": "markdown",
   "metadata": {},
   "source": [
    "## Simple plot"
   ]
  },
  {
   "cell_type": "code",
   "execution_count": null,
   "metadata": {},
   "outputs": [],
   "source": [
    "import numpy as np\n",
    "import pandas as pd\n",
    "import matplotlib.pyplot as plt\n",
    "\n",
    "# Data for plotting\n",
    "t = np.arange(0.0, 2.0, 0.01)\n",
    "s = 1 + np.sin(2 * np.pi * t)\n",
    "\n",
    "fig, ax = plt.subplots()\n",
    "ax.plot(t, s)\n",
    "\n",
    "ax.set(xlabel='time (s)', ylabel='voltage (mV)', title='About as simple as it gets, folks')\n",
    "ax.grid()\n",
    "\n",
    "plt.show()"
   ]
  },
  {
   "cell_type": "markdown",
   "metadata": {},
   "source": [
    "## Histogram\n",
    "\n",
    "In addition to the basic histogram, this demo shows a few optional features:\n",
    "\n",
    "- Setting the number of data bins.\n",
    "- The normed flag, which normalizes bin heights so that the integral of the histogram is 1. The resulting histogram is an approximation of the probability density function.\n",
    "- Setting the face color of the bars.\n",
    "- Setting the opacity (alpha value).\n",
    "\n",
    "Selecting different bin counts and sizes can significantly affect the shape of a histogram. The Astropy docs have a great section on how to select these parameters."
   ]
  },
  {
   "cell_type": "code",
   "execution_count": null,
   "metadata": {},
   "outputs": [],
   "source": [
    "import numpy as np\n",
    "import matplotlib.pyplot as plt\n",
    "\n",
    "np.random.seed(19680801)\n",
    "\n",
    "# example data\n",
    "mu = 100  # mean of distribution\n",
    "sigma = 15  # standard deviation of distribution\n",
    "x = mu + sigma * np.random.randn(437)\n",
    "\n",
    "num_bins = 50\n",
    "\n",
    "fig, ax = plt.subplots()\n",
    "\n",
    "# the histogram of the data\n",
    "n, bins, patches = ax.hist(x, num_bins, density=1)\n",
    "\n",
    "# add a 'best fit' line\n",
    "y = ((1 / (np.sqrt(2 * np.pi) * sigma)) * np.exp(-0.5 * (1 / sigma * (bins - mu))**2))\n",
    "ax.plot(bins, y, '--')\n",
    "ax.set_xlabel('Smarts')\n",
    "ax.set_ylabel('Probability density')\n",
    "ax.set_title(r'Histogram of IQ: $\\mu=100$, $\\sigma=15$')\n",
    "\n",
    "# Tweak spacing to prevent clipping of ylabel\n",
    "fig.tight_layout()\n",
    "plt.show()"
   ]
  },
  {
   "cell_type": "markdown",
   "metadata": {},
   "source": [
    "## Streamline Plot\n",
    "\n",
    "A stream plot, or streamline plot, is used to display 2D vector fields. This example shows a few features of the streamplot() function:\n",
    "\n",
    "- Varying the color along a streamline.\n",
    "- Varying the density of streamlines.\n",
    "- Varying the line width along a streamline.\n",
    "- Controlling the starting points of streamlines.\n",
    "- Streamlines skipping masked regions and NaN values."
   ]
  },
  {
   "cell_type": "code",
   "execution_count": null,
   "metadata": {},
   "outputs": [],
   "source": [
    "import numpy as np\n",
    "import matplotlib.pyplot as plt\n",
    "import matplotlib.gridspec as gridspec\n",
    "\n",
    "w = 3\n",
    "Y, X = np.mgrid[-w:w:100j, -w:w:100j]    # Create a 100x100 mesh-grid\n",
    "U = -1 - X**2 + Y                        # Define U\n",
    "V = 1 + X - Y**2                         # Define V\n",
    "speed = np.sqrt(U*U + V*V)\n",
    "\n",
    "#  Varying density along a streamline\n",
    "plt.streamplot(X, Y, U, V, density=[0.5, 1])\n",
    "plt.title('Streamline Plot Example')\n",
    "\n",
    "plt.tight_layout()\n",
    "plt.show()"
   ]
  },
  {
   "cell_type": "markdown",
   "metadata": {},
   "source": [
    "## 3D Plot: The Lorenz Attractor\n",
    "\n",
    "This is an example of plotting Edward Lorenz's 1963 [\"Deterministic Nonperiodic Flow\" in a 3-dimensional space using mplot3d.]( http://journals.ametsoc.org/doi/abs/10.1175/1520-0469%281963%29020%3C0130%3ADNF%3E2.0.CO%3B2)\n",
    "\n",
    "Note: Because this is a simple non-linear ODE, it would be more easily\n",
    "done using SciPy's ode solver, but this approach depends only upon NumPy"
   ]
  },
  {
   "cell_type": "code",
   "execution_count": null,
   "metadata": {},
   "outputs": [],
   "source": [
    "import numpy as np\n",
    "import matplotlib.pyplot as plt\n",
    "# This import registers the 3D projection, but is otherwise unused.\n",
    "from mpl_toolkits.mplot3d import Axes3D  # noqa: F401 unused import\n",
    "\n",
    "\n",
    "def lorenz(x, y, z, s=10, r=28, b=2.667):\n",
    "    '''\n",
    "    Given:\n",
    "       x, y, z: a point of interest in three dimensional space\n",
    "       s, r, b: parameters defining the lorenz attractor\n",
    "    Returns:\n",
    "       x_dot, y_dot, z_dot: values of the lorenz attractor's partial\n",
    "           derivatives at the point x, y, z\n",
    "    '''\n",
    "    x_dot = s*(y - x)\n",
    "    y_dot = r*x - y - x*z\n",
    "    z_dot = x*y - b*z\n",
    "    return x_dot, y_dot, z_dot\n",
    "\n",
    "\n",
    "dt = 0.01\n",
    "num_steps = 10000\n",
    "\n",
    "# Need one more for the initial values\n",
    "xs = np.empty((num_steps + 1,))\n",
    "ys = np.empty((num_steps + 1,))\n",
    "zs = np.empty((num_steps + 1,))\n",
    "\n",
    "# Set initial values\n",
    "xs[0], ys[0], zs[0] = (0., 1., 1.05)\n",
    "\n",
    "# Step through \"time\", calculating the partial derivatives at the current point\n",
    "# and using them to estimate the next point\n",
    "for i in range(num_steps):\n",
    "    x_dot, y_dot, z_dot = lorenz(xs[i], ys[i], zs[i])\n",
    "    xs[i + 1] = xs[i] + (x_dot * dt)\n",
    "    ys[i + 1] = ys[i] + (y_dot * dt)\n",
    "    zs[i + 1] = zs[i] + (z_dot * dt)\n",
    "\n",
    "\n",
    "# Plot\n",
    "fig = plt.figure()\n",
    "ax = fig.gca(projection='3d')\n",
    "\n",
    "ax.plot(xs, ys, zs, lw=0.5)\n",
    "ax.set_xlabel(\"X Axis\")\n",
    "ax.set_ylabel(\"Y Axis\")\n",
    "ax.set_zlabel(\"Z Axis\")\n",
    "ax.set_title(\"Lorenz Attractor\")\n",
    "\n",
    "plt.show()"
   ]
  },
  {
   "cell_type": "markdown",
   "metadata": {},
   "source": [
    "# Sounding Plot\n",
    "\n",
    "With additional package `MetPy`, making a Skew-T LogP plot is as straightforward as possible."
   ]
  },
  {
   "cell_type": "code",
   "execution_count": null,
   "metadata": {},
   "outputs": [],
   "source": [
    "# A sample sounding data is stored in ../data/sounding_466920_2015110700.txt\n",
    "import matplotlib.pyplot as plt\n",
    "import numpy as np\n",
    "import pandas as pd\n",
    "\n",
    "import metpy.calc as mpcalc\n",
    "from metpy.cbook import get_test_data\n",
    "from metpy.plots import SkewT\n",
    "from metpy.units import units\n",
    "\n",
    "# Read a sounding data\n",
    "col_names = [\"stdid\",\"time\", \"p\",\"t\",\"td\",\"wd\",\"ws\",\"qv\"]\n",
    "df = pd.read_fwf(\"../data/sounding_466920_2015110700.txt\", names=col_names)\n",
    "\n",
    "# Convert wd/ws to u/v\n",
    "df['u'], df['v'] = mpcalc.wind_components(df['ws'],np.deg2rad(df['wd']))\n",
    "\n",
    "# Drop any rows with all NaN values for T, Td, winds\n",
    "df = df.dropna(subset=('t','td','wd','ws','u','v'), how='all').reset_index(drop=True)\n",
    "\n",
    "# Pull data colume out into individual variables and assign units.\n",
    "p = df['p'].values * units.hPa\n",
    "T = df['t'].values * units.degC\n",
    "Td = df['td'].values * units.degC\n",
    "ws = df['ws'].values * units.knots\n",
    "wd = df['wd'].values * units.degrees\n",
    "qv = df['qv'].values * units('g/kg')\n",
    "u, v = mpcalc.wind_components(ws, wd)\n",
    "\n",
    "# Plot\n",
    "# Create a new figure. The dimensions here give a good aspect ratio\n",
    "fig = plt.figure(figsize=(9, 9))\n",
    "skew = SkewT(fig)\n",
    "# Plot the data using normal plotting functions, in this case using\n",
    "# log scaling in Y, as dictated by the typical meteorological plot\n",
    "skew.plot(df['p'], df['t'], 'r')\n",
    "skew.plot(df['p'], df['td'], 'g')\n",
    "skew.plot_barbs(df['p'], df['u'], df['v'])\n",
    "\n",
    "# Add the relevant special lines\n",
    "skew.plot_dry_adiabats()\n",
    "skew.plot_moist_adiabats()\n",
    "skew.plot_mixing_lines()\n",
    "skew.ax.set_ylim(1000, 100)\n",
    "\n",
    "plt.title('Sounding of 466920, 2015090100Z')\n",
    "# Show the plot\n",
    "plt.show()"
   ]
  },
  {
   "cell_type": "code",
   "execution_count": null,
   "metadata": {},
   "outputs": [],
   "source": []
  }
 ],
 "metadata": {
  "kernelspec": {
   "display_name": "Python 3",
   "language": "python",
   "name": "python3"
  },
  "language_info": {
   "codemirror_mode": {
    "name": "ipython",
    "version": 3
   },
   "file_extension": ".py",
   "mimetype": "text/x-python",
   "name": "python",
   "nbconvert_exporter": "python",
   "pygments_lexer": "ipython3",
   "version": "3.7.1"
  }
 },
 "nbformat": 4,
 "nbformat_minor": 2
}
