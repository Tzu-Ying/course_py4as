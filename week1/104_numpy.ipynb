{
 "cells": [
  {
   "cell_type": "markdown",
   "metadata": {},
   "source": [
    "# NumPy\n",
    "\n",
    "NumPy is the fundamental package for scientific computing with Python. It contains among other things:\n",
    "\n",
    "- a powerful N-dimensional array object\n",
    "- sophisticated (broadcasting) functions\n",
    "- tools for integrating C/C++ and Fortran code\n",
    "- useful linear algebra, Fourier transform, and random number capabilities\n",
    "\n",
    "Besides its obvious scientific uses, NumPy can also be used as an efficient multi-dimensional container of generic data. Arbitrary data-types can be defined. This allows NumPy to seamlessly and speedily integrate with a wide variety of databases."
   ]
  },
  {
   "cell_type": "markdown",
   "metadata": {},
   "source": [
    "## A Quick Comparison\n",
    "\n",
    "The following example show the same mathematical operation done without and with NumPy."
   ]
  },
  {
   "cell_type": "code",
   "execution_count": null,
   "metadata": {},
   "outputs": [],
   "source": [
    "%matplotlib inline\n",
    "\n",
    "import numpy as np\n",
    "import matplotlib.pyplot as plt"
   ]
  },
  {
   "cell_type": "code",
   "execution_count": null,
   "metadata": {},
   "outputs": [],
   "source": [
    "# Without NumPy\n",
    "from math import sin, pi\n",
    "def sinc(x):\n",
    "    if x == 0:\n",
    "        return 1.0\n",
    "    else:\n",
    "        pix = pi*x\n",
    "    return sin(pix)/pix\n",
    "\n",
    "def step(x):\n",
    "    if x > 0:\n",
    "        return 1.0\n",
    "    elif x < 0:\n",
    "        return 0.0\n",
    "    else:\n",
    "        return 0.5\n",
    "\n",
    "xval = [x/3.0 for x in range(-10,10)]\n",
    "yval1 = [sinc(x) for x in xval]\n",
    "yval2 = [step(x) for x in xval]\n",
    "\n",
    "plt.plot(yval1)\n",
    "plt.plot(yval2)"
   ]
  },
  {
   "cell_type": "code",
   "execution_count": null,
   "metadata": {},
   "outputs": [],
   "source": [
    "# With NumPy\n",
    "from numpy import sin, pi\n",
    "from numpy import vectorize\n",
    "\n",
    "vsinc = vectorize(sinc)\n",
    "def sinc(x):\n",
    "    pix = pi*x\n",
    "    val = sin(pix)/pix\n",
    "    val[x==0] = 1.0\n",
    "    return val\n",
    "\n",
    "vstep = vectorize(step)\n",
    "def step(x):\n",
    "    y = x*0.0\n",
    "    y[x>0] = 1\n",
    "    y[x==0] = 0.5\n",
    "    return y\n",
    "\n",
    "from numpy import *\n",
    "x = r_[-10:10]/3.0\n",
    "y1 = sinc(x)\n",
    "y2 = step(x)\n",
    "\n",
    "plt.plot(y1)\n",
    "plt.plot(y2)"
   ]
  },
  {
   "cell_type": "markdown",
   "metadata": {},
   "source": [
    "As you can see, NumPy allows you to write cleaner and faster code through vectorization.\n",
    "\n"
   ]
  },
  {
   "cell_type": "markdown",
   "metadata": {},
   "source": [
    "## NumPy Array\n",
    "\n",
    "The built-in **list** in python can be used as arrays, but the operations are not efficient. NumPy arrays are implemented with C and Fortran in the low-level and provide a friendly high-level interface. Therefore, NumPy arrays are both efficient and easy to use, and form the basis for many other packages such as Pandas, SciPy, Scikit-learn... etc."
   ]
  },
  {
   "cell_type": "code",
   "execution_count": null,
   "metadata": {},
   "outputs": [],
   "source": [
    "# Import the NumPy library\n",
    "import numpy as np\n",
    "# Create 2 arrays\n",
    "array1d = np.array(list(range(27)))\n",
    "array2d = array1d[:9].reshape([3,3])\n",
    "array3d = array1d.reshape([3,3,3])\n",
    "# See what happens\n",
    "print(\"Shape of 1D array: \" + str(array1d.shape))\n",
    "print(array1d)\n",
    "print(\"Shape of 2D array: \" + str(array2d.shape))\n",
    "print(array2d)\n",
    "print(\"Shape of 3D array: \" + str(array3d.shape))\n",
    "print(array3d)"
   ]
  },
  {
   "cell_type": "markdown",
   "metadata": {},
   "source": [
    "## NumPy Array Indexing\n",
    "\n",
    "Elements in NumPy arrays can be indexed and sliced with its position:\n",
    "- Single element can be indexed with `X[i]`, `X[i,j]`, `X[i,j,k]`... etc.\n",
    "- A block of elements can be sliced in the form of `X[i1:i2, j1:j2, k1:k2]`"
   ]
  },
  {
   "cell_type": "code",
   "execution_count": null,
   "metadata": {},
   "outputs": [],
   "source": [
    "import numpy as np\n",
    "# Let's create a 5x5x5 matrix\n",
    "arr = np.arange(125).reshape([5,5,5])\n",
    "# And now make some slices of it\n",
    "print(\"Slice the 2nd 5x5 array:\")\n",
    "print(arr[1,:,:])\n",
    "print()\n",
    "print(\"Slice the 2nd and the 4th 5x5 arrays:\")\n",
    "print(arr[1::2,:,:])"
   ]
  },
  {
   "cell_type": "markdown",
   "metadata": {},
   "source": [
    "## NumPy Array Operations\n",
    "\n",
    "NumPy provides many functions to operate on arrays efficiently.\n",
    "\n",
    "- Splitting:\n",
    "  - array_split: Split an array into multiple sub-arrays of equal or near-equal size.\n",
    "  - split: Split array into a list of multiple sub-arrays of equal size.\n",
    "  - hsplit: Split array into multiple sub-arrays horizontally (column wise)\n",
    "  - vsplit: Split array into multiple sub-arrays vertically (row wise)\n",
    "  - dsplit: Split array into multiple sub-arrays along the 3rd axis (depth).\n"
   ]
  },
  {
   "cell_type": "code",
   "execution_count": null,
   "metadata": {},
   "outputs": [],
   "source": [
    "import numpy as np\n",
    "# Let's create a 2x3x4 matrix\n",
    "arr = np.arange(24).reshape([2,3,4])\n",
    "print(arr)"
   ]
  },
  {
   "cell_type": "code",
   "execution_count": null,
   "metadata": {},
   "outputs": [],
   "source": [
    "# Then split it in different ways\n",
    "np.vsplit(arr,2)[0]"
   ]
  },
  {
   "cell_type": "code",
   "execution_count": null,
   "metadata": {},
   "outputs": [],
   "source": [
    "np.hsplit(arr,3)[0]"
   ]
  },
  {
   "cell_type": "code",
   "execution_count": null,
   "metadata": {},
   "outputs": [],
   "source": [
    "np.dsplit(arr,4)[0]"
   ]
  },
  {
   "cell_type": "markdown",
   "metadata": {},
   "source": [
    "- Merging:\n",
    "  - concatenate: Concatenate function that preserves input masks.\n",
    "  - stack: Stack a sequence of arrays along a new axis.\n",
    "  - hstack: Stack arrays in sequence horizontally (column wise)\n",
    "  - vstack: Stack arrays in sequence vertically (row wise)\n",
    "  - dstack: Stack arrays in sequence depth wise (along third dimension)"
   ]
  },
  {
   "cell_type": "code",
   "execution_count": null,
   "metadata": {},
   "outputs": [],
   "source": [
    "# We can also merge arrays\n",
    "a1 = np.array([2, 3, 5, 7])\n",
    "np.concatenate([a1, a1])"
   ]
  },
  {
   "cell_type": "code",
   "execution_count": null,
   "metadata": {},
   "outputs": [],
   "source": [
    "np.vstack([a1,a1])"
   ]
  },
  {
   "cell_type": "code",
   "execution_count": null,
   "metadata": {},
   "outputs": [],
   "source": [
    "np.hstack([a1,a1])"
   ]
  },
  {
   "cell_type": "code",
   "execution_count": null,
   "metadata": {},
   "outputs": [],
   "source": [
    "np.dstack([a1,a1])"
   ]
  },
  {
   "cell_type": "markdown",
   "metadata": {},
   "source": [
    "## Broadcasting\n",
    "\n",
    "Broadcasting describes how arithmetic works between **arrays of different shapes**. It is a very powerful feature, but one that can be easily misunderstood, even by experienced users."
   ]
  },
  {
   "cell_type": "code",
   "execution_count": null,
   "metadata": {},
   "outputs": [],
   "source": [
    "import numpy as np\n",
    "# Let's start with arrays with the same size\n",
    "a = np.array([0, 1, 2])\n",
    "b = np.array([5, 5, 5])\n",
    "a + b"
   ]
  },
  {
   "cell_type": "code",
   "execution_count": null,
   "metadata": {},
   "outputs": [],
   "source": [
    "# And then with different sizes\n",
    "a + 5"
   ]
  },
  {
   "cell_type": "code",
   "execution_count": null,
   "metadata": {},
   "outputs": [],
   "source": [
    "# And another example\n",
    "M = np.ones((3, 3))\n",
    "print('A 3x3 matrix of 1s')\n",
    "print(M)\n",
    "print()\n",
    "print('And plus [0, 1, 2]')\n",
    "print(M + a)"
   ]
  },
  {
   "cell_type": "markdown",
   "metadata": {},
   "source": [
    "## Rules of Broadcasting\n",
    "\n",
    "Broadcasting in NumPy follows a strict set of rules to determine the interaction between the two arrays:\n",
    "\n",
    "- Rule 1: If the two arrays differ in their number of dimensions, the shape of the one with fewer dimensions is padded with ones on its leading (left) side.\n",
    "- Rule 2: If the shape of the two arrays does not match in any dimension, the array with shape equal to 1 in that dimension is stretched to match the other shape.\n",
    "- Rule 3: If in any dimension the sizes disagree and neither is equal to 1, an error is raised."
   ]
  },
  {
   "cell_type": "markdown",
   "metadata": {},
   "source": [
    "For data analysis, the broadcasting feature gives us a quick way to calculate means and deviations. For example:"
   ]
  },
  {
   "cell_type": "code",
   "execution_count": null,
   "metadata": {},
   "outputs": [],
   "source": [
    "import numpy as np\n",
    "a = np.ones([3,3])\n",
    "b = a*2\n",
    "c = a*3\n",
    "d = np.stack([a,b,c])\n",
    "d"
   ]
  },
  {
   "cell_type": "code",
   "execution_count": null,
   "metadata": {},
   "outputs": [],
   "source": [
    "dmean = d.mean(0)\n",
    "dmean"
   ]
  },
  {
   "cell_type": "code",
   "execution_count": null,
   "metadata": {},
   "outputs": [],
   "source": [
    "ddev = d - dmean\n",
    "ddev"
   ]
  },
  {
   "cell_type": "markdown",
   "metadata": {},
   "source": [
    "## NumPy Random Number\n",
    "\n",
    "Random number generation is an important part of numerical simulation. With NumPy, the process is simply one function call."
   ]
  },
  {
   "cell_type": "code",
   "execution_count": null,
   "metadata": {},
   "outputs": [],
   "source": [
    "# Generate random integer with numpy.random.randint(min, max, size)\n",
    "a = np.random.randint(1,11,100)\n",
    "plt.plot(a)"
   ]
  },
  {
   "cell_type": "code",
   "execution_count": null,
   "metadata": {},
   "outputs": [],
   "source": [
    "# Generate random integer with numpy.random.randn(shape)\n",
    "b = np.random.randn(50,50)\n",
    "plt.contour(b)"
   ]
  },
  {
   "cell_type": "markdown",
   "metadata": {},
   "source": [
    "Random number can be fixed by specified a random seed, using `numpy.random.seed(seed)`."
   ]
  },
  {
   "cell_type": "code",
   "execution_count": null,
   "metadata": {},
   "outputs": [],
   "source": [
    "import numpy as np\n",
    "print('Fixed random seed as 1')\n",
    "np.random.seed(1)\n",
    "a = np.random.randn(3,3)\n",
    "print(a)\n",
    "print('Next')\n",
    "b = np.random.randn(3,3)\n",
    "print(b)\n",
    "print('Fixed random seed as 1 again')\n",
    "np.random.seed(1)\n",
    "c = np.random.randn(3,3)\n",
    "print(c)"
   ]
  },
  {
   "cell_type": "code",
   "execution_count": null,
   "metadata": {},
   "outputs": [],
   "source": []
  }
 ],
 "metadata": {
  "kernelspec": {
   "display_name": "Python 3",
   "language": "python",
   "name": "python3"
  },
  "language_info": {
   "codemirror_mode": {
    "name": "ipython",
    "version": 3
   },
   "file_extension": ".py",
   "mimetype": "text/x-python",
   "name": "python",
   "nbconvert_exporter": "python",
   "pygments_lexer": "ipython3",
   "version": "3.7.1"
  }
 },
 "nbformat": 4,
 "nbformat_minor": 2
}
